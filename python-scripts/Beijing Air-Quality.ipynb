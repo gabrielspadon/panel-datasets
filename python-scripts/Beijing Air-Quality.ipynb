{
 "cells": [
  {
   "cell_type": "code",
   "execution_count": 1,
   "metadata": {},
   "outputs": [],
   "source": [
    "import os\n",
    "import numpy as np\n",
    "import pandas as pd"
   ]
  },
  {
   "cell_type": "code",
   "execution_count": 2,
   "metadata": {
    "scrolled": true
   },
   "outputs": [],
   "source": [
    "shared_idx, shared_col, collective_frames = {}, {}, {}\n",
    "for root, dirs, files in os.walk(\"../third-party/Beijing Air-Quality/PRSA2017_Data_20130301-20170228/\"):\n",
    "    for filename in files:\n",
    "        dataframe = pd.read_csv(\"%s/%s\" % (root, filename), sep=',', index_col=0)\n",
    "        # If you have values approximating a cumulative distribution function, then should work well\n",
    "        dataframe = dataframe.interpolate(method='pchip', limit_direction='both')\n",
    "        dataframe.index = pd.to_datetime(dataframe[['year', 'month', 'day', 'hour']])\n",
    "        # Dropping the Wind Direction, no way to fill missing values\n",
    "        dataframe = dataframe.drop(['wd', 'year', 'month', 'day', 'hour'], axis=1)\n",
    "        dataframe.station = dataframe.station.str.title().sort_index()\n",
    "        station_name = list(set(dataframe.station.values))[0]\n",
    "        dataframe = dataframe.drop(['station'], axis=1)\n",
    "        # Identifying the shared timestamps and shared columns\n",
    "        shared_idx = set(dataframe.index) if len(shared_idx) == 0 else shared_idx & set(dataframe.index)\n",
    "        shared_col = set(dataframe.columns) if len(shared_col) == 0 else shared_col & set(dataframe.columns)\n",
    "        # Saving the current dataset for later use\n",
    "        collective_frames[station_name] = dataframe"
   ]
  },
  {
   "cell_type": "code",
   "execution_count": 3,
   "metadata": {},
   "outputs": [],
   "source": [
    "shared_idx = sorted(shared_idx)\n",
    "shared_col = sorted(shared_col)"
   ]
  },
  {
   "cell_type": "code",
   "execution_count": 4,
   "metadata": {},
   "outputs": [],
   "source": [
    "dataframes = []\n",
    "for key in list(sorted(collective_frames.keys())):\n",
    "    dataframe = collective_frames[key].loc[shared_idx]\n",
    "    dataframe = dataframe[shared_col]\n",
    "    dataframes.append(dataframe.values)\n",
    "matrix = np.stack(dataframes)"
   ]
  },
  {
   "cell_type": "code",
   "execution_count": 5,
   "metadata": {},
   "outputs": [],
   "source": [
    "shared_idx = [str(idx) for idx in shared_idx]\n",
    "shared_col = [str(idx) for idx in shared_col]"
   ]
  },
  {
   "cell_type": "code",
   "execution_count": 6,
   "metadata": {},
   "outputs": [],
   "source": [
    "np.save(\"../prepared-data/Beijing Air-Quality (%dx%dx%d)\" % matrix.shape, matrix)"
   ]
  },
  {
   "cell_type": "code",
   "execution_count": 7,
   "metadata": {},
   "outputs": [],
   "source": [
    "with open(\"../prepared-data/Beijing Air-Quality (%dx%dx%d).AX0\" % matrix.shape,'w') as f:\n",
    "    f.write('\\n'.join(list(sorted(collective_frames.keys()))))"
   ]
  },
  {
   "cell_type": "code",
   "execution_count": 8,
   "metadata": {},
   "outputs": [],
   "source": [
    "with open(\"../prepared-data/Beijing Air-Quality (%dx%dx%d).AX1\" % matrix.shape,'w') as f:\n",
    "    f.write('\\n'.join(shared_idx))"
   ]
  },
  {
   "cell_type": "code",
   "execution_count": 9,
   "metadata": {},
   "outputs": [],
   "source": [
    "with open(\"../prepared-data/Beijing Air-Quality (%dx%dx%d).AX2\" % matrix.shape,'w') as f:\n",
    "    f.write('\\n'.join(shared_col))"
   ]
  }
 ],
 "metadata": {
  "kernelspec": {
   "display_name": "Python (py37)",
   "language": "python",
   "name": "py37"
  },
  "language_info": {
   "codemirror_mode": {
    "name": "ipython",
    "version": 3
   },
   "file_extension": ".py",
   "mimetype": "text/x-python",
   "name": "python",
   "nbconvert_exporter": "python",
   "pygments_lexer": "ipython3",
   "version": "3.7.7"
  }
 },
 "nbformat": 4,
 "nbformat_minor": 4
}
