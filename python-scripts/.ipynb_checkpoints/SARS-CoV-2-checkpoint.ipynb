{
 "cells": [
  {
   "cell_type": "code",
   "execution_count": 1,
   "metadata": {},
   "outputs": [],
   "source": [
    "import numpy as np\n",
    "import pandas as pd"
   ]
  },
  {
   "cell_type": "code",
   "execution_count": 2,
   "metadata": {},
   "outputs": [
    {
     "name": "stdout",
     "output_type": "stream",
     "text": [
      "HEAD is now at c504f110 automated update\n",
      "First, rewinding head to replay your work on top of it...\n",
      "Fast-forwarded master to origin/master.\n"
     ]
    },
    {
     "name": "stderr",
     "output_type": "stream",
     "text": [
      "From github.com:CSSEGISandData/COVID-19\n",
      "   382e42db..07a51999  master     -> origin/master\n",
      "   fb5839dc..ec8382e0  web-data   -> origin/web-data\n"
     ]
    }
   ],
   "source": [
    "%%bash\n",
    "cd ../third-party/SARS-CoV-2\n",
    "git reset --hard HEAD^\n",
    "git clean -fd\n",
    "git fetch\n",
    "git rebase origin/master"
   ]
  },
  {
   "cell_type": "code",
   "execution_count": 3,
   "metadata": {},
   "outputs": [],
   "source": [
    "folder_path      = '../third-party/SARS-CoV-2/csse_covid_19_data/csse_covid_19_time_series'\n",
    "deaths_global    = pd.read_csv('%s/time_series_covid19_deaths_global.csv' % folder_path)\n",
    "confirmed_global = pd.read_csv('%s/time_series_covid19_confirmed_global.csv' % folder_path)\n",
    "recovered_global = pd.read_csv('%s/time_series_covid19_recovered_global.csv' % folder_path)"
   ]
  },
  {
   "cell_type": "code",
   "execution_count": 4,
   "metadata": {},
   "outputs": [],
   "source": [
    "deaths_global    = deaths_global.groupby(\"Country/Region\").sum()\n",
    "confirmed_global = confirmed_global.groupby(\"Country/Region\").sum()\n",
    "recovered_global = recovered_global.groupby(\"Country/Region\").sum()"
   ]
  },
  {
   "cell_type": "code",
   "execution_count": 5,
   "metadata": {},
   "outputs": [],
   "source": [
    "deaths_global    = deaths_global.drop(columns=['Lat', 'Long'])\n",
    "confirmed_global = confirmed_global.drop(columns=['Lat', 'Long'])\n",
    "recovered_global = recovered_global.drop(columns=['Lat', 'Long'])"
   ]
  },
  {
   "cell_type": "code",
   "execution_count": 6,
   "metadata": {},
   "outputs": [],
   "source": [
    "shared_index = sorted(set(deaths_global.index) & set(confirmed_global.index) & set(recovered_global.index))"
   ]
  },
  {
   "cell_type": "code",
   "execution_count": 7,
   "metadata": {},
   "outputs": [],
   "source": [
    "deaths_global    = deaths_global.loc[shared_index]\n",
    "confirmed_global = confirmed_global.loc[shared_index]\n",
    "recovered_global = recovered_global.loc[shared_index]"
   ]
  },
  {
   "cell_type": "code",
   "execution_count": 8,
   "metadata": {},
   "outputs": [],
   "source": [
    "deaths_global.index.name    = 'Country'\n",
    "confirmed_global.index.name = 'Country'\n",
    "recovered_global.index.name = 'Country'"
   ]
  },
  {
   "cell_type": "code",
   "execution_count": 9,
   "metadata": {},
   "outputs": [],
   "source": [
    "shared_columns = \\\n",
    "    sorted(pd.to_datetime(\n",
    "        sorted(set(deaths_global.columns) & set(confirmed_global.columns) & set(recovered_global.columns))))"
   ]
  },
  {
   "cell_type": "code",
   "execution_count": 10,
   "metadata": {},
   "outputs": [],
   "source": [
    "deaths_global.columns    = pd.to_datetime(deaths_global.columns)\n",
    "confirmed_global.columns = pd.to_datetime(confirmed_global.columns)\n",
    "recovered_global.columns = pd.to_datetime(recovered_global.columns)"
   ]
  },
  {
   "cell_type": "code",
   "execution_count": 11,
   "metadata": {},
   "outputs": [],
   "source": [
    "deaths_global    = deaths_global[shared_columns]\n",
    "confirmed_global = confirmed_global[shared_columns]\n",
    "recovered_global = recovered_global[shared_columns]"
   ]
  },
  {
   "cell_type": "code",
   "execution_count": 12,
   "metadata": {},
   "outputs": [],
   "source": [
    "matrix = \\\n",
    "    np.transpose(\n",
    "        np.stack([\n",
    "            deaths_global.values,    # 0: Number of Deaths\n",
    "            confirmed_global.values, # 1: Number of Confirmed Cases\n",
    "            recovered_global.values  # 2: Number of Recovered People\n",
    "        ]), (1, 2, 0)\n",
    "    )"
   ]
  },
  {
   "cell_type": "code",
   "execution_count": 13,
   "metadata": {},
   "outputs": [],
   "source": [
    "np.save(\"../prepared-data/SARS-CoV-2 (%dx%dx%d)\" % matrix.shape, matrix)"
   ]
  },
  {
   "cell_type": "code",
   "execution_count": 14,
   "metadata": {},
   "outputs": [],
   "source": [
    "with open(\"../prepared-data/SARS-CoV-2 (%dx%dx%d).AX0\" % matrix.shape,'w') as f:\n",
    "    f.write('\\n'.join(shared_index))"
   ]
  },
  {
   "cell_type": "code",
   "execution_count": 16,
   "metadata": {},
   "outputs": [],
   "source": [
    "with open(\"../prepared-data/SARS-CoV-2 (%dx%dx%d).AX3\" % matrix.shape,'w') as f:\n",
    "    shared_columns = [str(i).split()[0] for i in shared_columns]\n",
    "    f.write('\\n'.join(list(shared_columns)))"
   ]
  },
  {
   "cell_type": "code",
   "execution_count": 15,
   "metadata": {},
   "outputs": [],
   "source": [
    "with open(\"../prepared-data/SARS-CoV-2 (%dx%dx%d).AX2\" % matrix.shape,'w') as f:\n",
    "    f.write('\\n'.join(['Deaths', 'Confirmed Cases', 'Recovered People']))"
   ]
  }
 ],
 "metadata": {
  "kernelspec": {
   "display_name": "Python (py37)",
   "language": "python",
   "name": "py37"
  },
  "language_info": {
   "codemirror_mode": {
    "name": "ipython",
    "version": 3
   },
   "file_extension": ".py",
   "mimetype": "text/x-python",
   "name": "python",
   "nbconvert_exporter": "python",
   "pygments_lexer": "ipython3",
   "version": "3.7.7"
  }
 },
 "nbformat": 4,
 "nbformat_minor": 2
}
