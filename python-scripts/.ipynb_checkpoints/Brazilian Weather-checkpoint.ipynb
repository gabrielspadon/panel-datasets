{
 "cells": [
  {
   "cell_type": "code",
   "execution_count": 1,
   "metadata": {},
   "outputs": [],
   "source": [
    "import os\n",
    "import numpy as np\n",
    "import pandas as pd"
   ]
  },
  {
   "cell_type": "code",
   "execution_count": 2,
   "metadata": {
    "scrolled": true
   },
   "outputs": [],
   "source": [
    "shared_index = set()\n",
    "shared_columns = set()\n",
    "collective_frames = {}\n",
    "for root, dirs, files in os.walk(\"../third-party/Brazilian Weather/\"):\n",
    "    individual_frames = []\n",
    "    for filename in files:\n",
    "        if filename[-3:] == \"WTH\":\n",
    "            dataframe = pd.read_csv(\"%s/%s\" % (root, filename), skiprows=4, sep='\\s+', index_col=0)\n",
    "            individual_frames.append(dataframe)  # all frames are in the same folder\n",
    "    if len(individual_frames) > 0:\n",
    "        dataframe = pd.concat(individual_frames, verify_integrity=True).sort_index()\n",
    "        dataframe = dataframe.dropna(axis='columns')\n",
    "        shared_index = set(dataframe.index) if len(shared_index) == 0 else shared_index & set(dataframe.index)\n",
    "        shared_columns = set(dataframe.columns) if len(shared_columns) == 0 else shared_columns & set(dataframe.columns)\n",
    "        collective_frames[root[-4:]] = dataframe"
   ]
  },
  {
   "cell_type": "code",
   "execution_count": 3,
   "metadata": {},
   "outputs": [],
   "source": [
    "shared_index = sorted(shared_index)\n",
    "shared_columns = sorted(shared_columns)"
   ]
  },
  {
   "cell_type": "code",
   "execution_count": 4,
   "metadata": {},
   "outputs": [],
   "source": [
    "dataframes = []\n",
    "for key in collective_frames.keys():\n",
    "    dataframe = collective_frames[key].loc[shared_index]\n",
    "    dataframe = dataframe[shared_columns]\n",
    "    dataframes.append(dataframe.values)\n",
    "matrix = np.stack(dataframes)"
   ]
  },
  {
   "cell_type": "code",
   "execution_count": 5,
   "metadata": {},
   "outputs": [],
   "source": [
    "shared_index = [str(idx) for idx in shared_index]\n",
    "shared_columns = [str(idx) for idx in shared_columns]"
   ]
  },
  {
   "cell_type": "code",
   "execution_count": 6,
   "metadata": {},
   "outputs": [],
   "source": [
    "np.save(\"../prepared-data/Brazilian Weather (%dx%dx%d)\" % matrix.shape, matrix)"
   ]
  },
  {
   "cell_type": "code",
   "execution_count": 7,
   "metadata": {},
   "outputs": [],
   "source": [
    "with open(\"../prepared-data/Brazilian Weather (%dx%dx%d).idx\" % matrix.shape,'w') as f:\n",
    "    f.write('\\n'.join(shared_index))"
   ]
  },
  {
   "cell_type": "code",
   "execution_count": 8,
   "metadata": {},
   "outputs": [],
   "source": [
    "with open(\"../prepared-data/Brazilian Weather (%dx%dx%d).col\" % matrix.shape,'w') as f:\n",
    "    f.write('\\n'.join(shared_columns))"
   ]
  }
 ],
 "metadata": {
  "kernelspec": {
   "display_name": "Python (py37)",
   "language": "python",
   "name": "py37"
  },
  "language_info": {
   "codemirror_mode": {
    "name": "ipython",
    "version": 3
   },
   "file_extension": ".py",
   "mimetype": "text/x-python",
   "name": "python",
   "nbconvert_exporter": "python",
   "pygments_lexer": "ipython3",
   "version": "3.7.7"
  }
 },
 "nbformat": 4,
 "nbformat_minor": 4
}
