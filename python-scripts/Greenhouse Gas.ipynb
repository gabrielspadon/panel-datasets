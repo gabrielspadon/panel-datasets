{
 "cells": [
  {
   "cell_type": "code",
   "execution_count": 1,
   "metadata": {},
   "outputs": [],
   "source": [
    "import os\n",
    "import numpy as np\n",
    "import pandas as pd"
   ]
  },
  {
   "cell_type": "code",
   "execution_count": 2,
   "metadata": {
    "scrolled": true
   },
   "outputs": [],
   "source": [
    "shared_idx, shared_col, collective_frames = {}, {}, {}\n",
    "for root, dirs, files in os.walk(\"../third-party/Greenhouse Gas\"):\n",
    "    for filename in files:\n",
    "        if filename[-4:] == \".dat\":\n",
    "            # Transpose to create a multivariate view of the problem\n",
    "            dataframe = pd.read_csv(\"%s/%s\" % (root, filename), sep=' ', header=None, index_col=None).T\n",
    "            # Identifying the shared timestamps and shared columns\n",
    "            shared_idx = set(dataframe.index) if len(shared_idx) == 0 else shared_idx & set(dataframe.index)\n",
    "            shared_col = set(dataframe.columns) if len(shared_col) == 0 else shared_col & set(dataframe.columns)\n",
    "            # Saving the current dataset for later use\n",
    "            collective_frames[filename.split(\".\")[2]] = dataframe"
   ]
  },
  {
   "cell_type": "code",
   "execution_count": 3,
   "metadata": {},
   "outputs": [],
   "source": [
    "shared_idx = sorted(shared_idx)\n",
    "shared_col = sorted(shared_col)"
   ]
  },
  {
   "cell_type": "code",
   "execution_count": 4,
   "metadata": {},
   "outputs": [],
   "source": [
    "dataframes = []\n",
    "for key in list(sorted(collective_frames.keys())):\n",
    "    dataframe = collective_frames[key].loc[shared_idx]\n",
    "    dataframe = dataframe[shared_col]\n",
    "    dataframes.append(dataframe.values)\n",
    "matrix = np.stack(dataframes)"
   ]
  },
  {
   "cell_type": "code",
   "execution_count": 5,
   "metadata": {},
   "outputs": [],
   "source": [
    "shared_idx = [str(idx) for idx in shared_idx]\n",
    "shared_col = [str(idx) for idx in shared_col]"
   ]
  },
  {
   "cell_type": "code",
   "execution_count": 6,
   "metadata": {},
   "outputs": [],
   "source": [
    "np.save(\"../prepared-data/Greenhouse Gas (%dx%dx%d)\" % matrix.shape, matrix)"
   ]
  },
  {
   "cell_type": "code",
   "execution_count": 7,
   "metadata": {},
   "outputs": [],
   "source": [
    "with open(\"../prepared-data/Greenhouse Gas (%dx%dx%d).AX0\" % matrix.shape,'w') as f:\n",
    "    f.write('\\n'.join(list(sorted(collective_frames.keys()))))"
   ]
  },
  {
   "cell_type": "code",
   "execution_count": 8,
   "metadata": {},
   "outputs": [],
   "source": [
    "with open(\"../prepared-data/Greenhouse Gas (%dx%dx%d).AX1\" % matrix.shape,'w') as f:\n",
    "    f.write('\\n'.join(shared_idx))"
   ]
  },
  {
   "cell_type": "code",
   "execution_count": 9,
   "metadata": {},
   "outputs": [],
   "source": [
    "with open(\"../prepared-data/Greenhouse Gas (%dx%dx%d).AX2\" % matrix.shape,'w') as f:\n",
    "    f.write('\\n'.join(shared_col))"
   ]
  }
 ],
 "metadata": {
  "kernelspec": {
   "display_name": "Python (py37)",
   "language": "python",
   "name": "py37"
  },
  "language_info": {
   "codemirror_mode": {
    "name": "ipython",
    "version": 3
   },
   "file_extension": ".py",
   "mimetype": "text/x-python",
   "name": "python",
   "nbconvert_exporter": "python",
   "pygments_lexer": "ipython3",
   "version": "3.7.7"
  }
 },
 "nbformat": 4,
 "nbformat_minor": 4
}
